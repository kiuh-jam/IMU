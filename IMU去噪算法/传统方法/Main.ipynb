{
 "cells": [
  {
   "cell_type": "code",
   "execution_count": 16,
   "metadata": {},
   "outputs": [],
   "source": [
    "import data_in\n",
    "import KF\n",
    "import LMS\n",
    "import RLS\n",
    "import numpy as np\n",
    "import MAF\n",
    "import matplotlib.pyplot as plt\n",
    "import EMD\n",
    "import EMD_WT\n",
    "import SVM\n",
    "\n",
    "def plot(time_series_measurement,time_series_real, time_series_predict):\n",
    "    # 绘制结果\n",
    "    plt.figure(figsize=(12, 6))\n",
    "\n",
    "    # 目标信号\n",
    "    plt.subplot(3, 1, 1)\n",
    "    plt.plot(time_series_real, label='target signal')\n",
    "    plt.title('target signal')\n",
    "    plt.legend()\n",
    "\n",
    "    # 带噪声信号\n",
    "    plt.subplot(3, 1, 2)\n",
    "    plt.plot(time_series_measurement, label='signal with noise')\n",
    "    plt.title('signal with noise')\n",
    "    plt.legend()\n",
    "\n",
    "    # 去噪信号\n",
    "    plt.subplot(3, 1, 3)\n",
    "    plt.plot(time_series_predict, label='output signal')\n",
    "    plt.title('output signal')\n",
    "    plt.legend()\n",
    "\n",
    "    plt.tight_layout()\n",
    "    plt.show()\n",
    "\n",
    "    print(MSE[-1])\n",
    "\n",
    "def plot_1(time_series_measurement, time_series_real, time_series_predict):\n",
    "    plt.figure(figsize=(12, 6))\n",
    "    plt.plot(time_series_real, label = 'target signal', color = 'blue')\n",
    "    plt.plot(time_series_measurement, label = 'measurement', color = 'green')\n",
    "    plt.plot(time_series_predict, label = 'predict', color = 'red')\n",
    "    plt.show()\n",
    "\n",
    "def plot_2(time_series_measurement, time_series_predict):\n",
    "    plt.figure(figsize=(12, 6))\n",
    "    plt.plot(time_series_measurement, label='measurement', color='green')\n",
    "    plt.plot(time_series_predict, label = 'predict', color = 'red')\n",
    "    plt.legend()\n",
    "    plt.show()\n"
   ]
  },
  {
   "cell_type": "markdown",
   "metadata": {},
   "source": [
    "# ARMA-KF"
   ]
  },
  {
   "cell_type": "code",
   "execution_count": null,
   "metadata": {},
   "outputs": [],
   "source": [
    "gyro_csv_path = r'C:\\Users\\13106\\Desktop\\2024\\传感器数据采集\\4_82%_842_静止\\X\\新建文件夹 (2)\\Gyroscope.csv'\n",
    "time,gyro_x,gyro_y,gyro_z = data_in.gyro_data_in(gyro_csv_path)\n",
    "\n",
    "time_series_measurement = gyro_x\n",
    "model = KF.ARMA_Kalman_Filter(time_series_measurement)\n",
    "# ensure data is zero mean\n",
    "model.zero_mean()\n",
    "# # make smooth test\n",
    "# model.smooth()\n",
    "# # 平稳性检验\n",
    "# model.stationary_test()\n",
    "# 正态分布检验\n",
    "model.normality_test()\n",
    "# # # AIC BIC\n",
    "# # model.AIC_BIC()\n",
    "# model.p=3\n",
    "# model.q=2\n",
    "# # ARMA\n",
    "# model.ARMA_model()\n",
    "# print(model.p)\n",
    "# print(model.q)\n",
    "# initial_x = np.array([[0,0]]).T # 列向量\n",
    "# dim_x = 2\n",
    "# dim_z = 1\n",
    "# p = np.array([[100,0],[0,100]])\n",
    "# F = np.array([[-0.1712,1],[-0.0532,0]])\n",
    "# T = np.array([[1,0],[0.4494,0]])\n",
    "# QQ = np.array([[1,0],[0,1]])\n",
    "# H = np.array([[1,0]])\n",
    "# Q = np.dot(T,QQ)\n",
    "# Q = np.dot(Q,T)\n",
    "# model.KF(initial_x=initial_x,dim_x=dim_x,dim_z=dim_z,P=p,F=F,H=H,Q=Q)\n",
    "# time_series_predict = []\n",
    "# for i in range(len(model.time_series_kf)):\n",
    "#     time_series_predict.append(-0.1712*model.time_series_kf[i][0]-0.0532*model.time_series_kf[i][1])\n",
    "# plot_2(time_series_measurement,time_series_predict)"
   ]
  },
  {
   "cell_type": "markdown",
   "metadata": {},
   "source": [
    "# SVM"
   ]
  },
  {
   "cell_type": "code",
   "execution_count": null,
   "metadata": {},
   "outputs": [],
   "source": [
    "# acc_csv_path = r'C:\\Users\\13106\\Desktop\\2024\\传感器数据采集\\已提交\\5_83%_815_静止\\X\\Accelerometer.csv'\n",
    "# time,acc_x,acc_y,acc_z = data_in.acc_data_in(acc_csv_path)\n",
    "# train = [[y] for y in acc_x[10000:40000]]\n",
    "# # 假设噪声在真实值附近的波动服从高斯分布\n",
    "# real = np.random.normal(np.mean(train), 1, 30000)\n",
    "# predict = [[y] for y in acc_x[50000:70000]]\n",
    "# model = SVM.svm_train(time_series_measurement=train, time_series_real= real)\n",
    "# y = SVM.svm_predict(predict,model)\n",
    "# print(y)\n",
    "# plot_2(time_series_measurement, y)"
   ]
  },
  {
   "cell_type": "markdown",
   "metadata": {},
   "source": [
    "# EMD-ARMA-KF\n",
    "先进行经验模态分解\n",
    "计算Bhattacharyya Distance找到mix signals\n"
   ]
  }
 ],
 "metadata": {
  "kernelspec": {
   "display_name": "base",
   "language": "python",
   "name": "python3"
  },
  "language_info": {
   "codemirror_mode": {
    "name": "ipython",
    "version": 3
   },
   "file_extension": ".py",
   "mimetype": "text/x-python",
   "name": "python",
   "nbconvert_exporter": "python",
   "pygments_lexer": "ipython3",
   "version": "3.11.7"
  }
 },
 "nbformat": 4,
 "nbformat_minor": 2
}
