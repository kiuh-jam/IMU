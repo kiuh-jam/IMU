{
 "cells": [
  {
   "cell_type": "code",
   "execution_count": 1,
   "metadata": {},
   "outputs": [
    {
     "name": "stdout",
     "output_type": "stream",
     "text": [
      "0.816496580927726\n",
      "0.816496580927726\n",
      "0.816496580927726\n",
      "1.1547005383792515\n"
     ]
    }
   ],
   "source": [
    "import numpy as np\n",
    "x = [1,2,3]\n",
    "y = [2,3,4]\n",
    "z = [3,4,5]\n",
    "print(np.std(x))\n",
    "print(np.std(y))\n",
    "print(np.std(z))\n",
    "print(np.std([x,y,z]))"
   ]
  }
 ],
 "metadata": {
  "kernelspec": {
   "display_name": "base",
   "language": "python",
   "name": "python3"
  },
  "language_info": {
   "codemirror_mode": {
    "name": "ipython",
    "version": 3
   },
   "file_extension": ".py",
   "mimetype": "text/x-python",
   "name": "python",
   "nbconvert_exporter": "python",
   "pygments_lexer": "ipython3",
   "version": "3.11.7"
  }
 },
 "nbformat": 4,
 "nbformat_minor": 2
}
